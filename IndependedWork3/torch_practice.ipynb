{
 "cells": [
  {
   "cell_type": "markdown",
   "id": "fb7fe952-221f-4259-8783-f7670351ec7c",
   "metadata": {},
   "source": [
    "# Самостоятельная. Модуль 3"
   ]
  },
  {
   "cell_type": "code",
   "execution_count": 1,
   "id": "45a3d60b-80ac-4840-89f9-e2dccfeeb543",
   "metadata": {},
   "outputs": [],
   "source": [
    "import numpy as np\n",
    "import pandas as pd\n",
    "import torch"
   ]
  },
  {
   "cell_type": "markdown",
   "id": "84868ffd-4ed2-4b7d-b1fe-1423433d30a7",
   "metadata": {},
   "source": [
    "## Задача 1"
   ]
  },
  {
   "cell_type": "markdown",
   "id": "b5365217-470c-4811-a1c9-e1f99eb3b051",
   "metadata": {},
   "source": [
    "### 1"
   ]
  },
  {
   "cell_type": "code",
   "execution_count": 18,
   "id": "0cf56833-ec42-44f1-8575-094563611442",
   "metadata": {},
   "outputs": [
    {
     "name": "stdout",
     "output_type": "stream",
     "text": [
      "tensor([[1., 0., 0., 0.],\n",
      "        [0., 1., 0., 0.],\n",
      "        [0., 0., 1., 0.]])\n",
      "tensor([0., 0., 0., 0., 0., 0., 0., 0., 0., 0., 0., 0.])\n"
     ]
    }
   ],
   "source": [
    "a = torch.eye(3, 4)\n",
    "b = torch.zeros(12,)\n",
    "print(a)\n",
    "print(b)"
   ]
  },
  {
   "cell_type": "markdown",
   "id": "cfe3c766-f895-410b-b2dc-169dada0eddf",
   "metadata": {},
   "source": [
    "### 2"
   ]
  },
  {
   "cell_type": "code",
   "execution_count": 19,
   "id": "880d99af-8bdb-4982-97f2-e7f916466838",
   "metadata": {},
   "outputs": [
    {
     "data": {
      "text/plain": [
       "tensor([[[0., 0., 0.],\n",
       "         [0., 0., 0.]],\n",
       "\n",
       "        [[0., 0., 0.],\n",
       "         [0., 0., 0.]]])"
      ]
     },
     "execution_count": 19,
     "metadata": {},
     "output_type": "execute_result"
    }
   ],
   "source": [
    "c = b.view(2, 2, 3)\n",
    "c"
   ]
  },
  {
   "cell_type": "markdown",
   "id": "a06c7083-43ec-4ad5-8831-3adcfa03e6b3",
   "metadata": {},
   "source": [
    "### 3"
   ]
  },
  {
   "cell_type": "code",
   "execution_count": 20,
   "id": "4f8381c0-df0b-4924-b481-c63ea38eb08c",
   "metadata": {},
   "outputs": [
    {
     "data": {
      "text/plain": [
       "tensor([1., 0., 0.])"
      ]
     },
     "execution_count": 20,
     "metadata": {},
     "output_type": "execute_result"
    }
   ],
   "source": [
    "a[:, 0]"
   ]
  },
  {
   "cell_type": "markdown",
   "id": "2d3c28ac-0f0c-4ba5-a481-5fedf76b78aa",
   "metadata": {},
   "source": [
    "## Задача 2"
   ]
  },
  {
   "cell_type": "markdown",
   "id": "0c7cf55e-f063-4455-9367-da0c84405a93",
   "metadata": {},
   "source": [
    "### 1"
   ]
  },
  {
   "cell_type": "code",
   "execution_count": 46,
   "id": "9c2cf178-ee43-4a04-8a64-52ca5af47699",
   "metadata": {},
   "outputs": [
    {
     "name": "stdout",
     "output_type": "stream",
     "text": [
      "tensor([[0., 0.],\n",
      "        [0., 0.],\n",
      "        [0., 0.],\n",
      "        [0., 0.],\n",
      "        [0., 0.]])\n",
      "tensor([[0., 0., 0., 0., 0., 0., 0., 0., 0., 0.]])\n"
     ]
    }
   ],
   "source": [
    "a = torch.zeros(5, 2)\n",
    "b = torch.zeros(1, 10)\n",
    "print(a)\n",
    "print(b)"
   ]
  },
  {
   "cell_type": "markdown",
   "id": "3a37486f-f2ec-4390-b44a-4938bb3d57c9",
   "metadata": {},
   "source": [
    "### 2"
   ]
  },
  {
   "cell_type": "code",
   "execution_count": 47,
   "id": "dd8c9e2e-e112-478d-90a8-7dc423760e00",
   "metadata": {},
   "outputs": [
    {
     "data": {
      "text/plain": [
       "tensor([[0., 0.],\n",
       "        [0., 0.],\n",
       "        [0., 0.],\n",
       "        [0., 0.],\n",
       "        [0., 0.]])"
      ]
     },
     "execution_count": 47,
     "metadata": {},
     "output_type": "execute_result"
    }
   ],
   "source": [
    "c = b.view(5, 2)\n",
    "c"
   ]
  },
  {
   "cell_type": "markdown",
   "id": "11f2d1a0-b774-4af0-b5e2-cf9b1f7aa0c6",
   "metadata": {},
   "source": [
    "### 3"
   ]
  },
  {
   "cell_type": "code",
   "execution_count": 48,
   "id": "2372daa6-91ab-4e13-803f-7d60177c1b37",
   "metadata": {},
   "outputs": [
    {
     "data": {
      "text/plain": [
       "tensor([[5.5000, 5.5000],\n",
       "        [5.5000, 5.5000],\n",
       "        [5.5000, 5.5000],\n",
       "        [5.5000, 5.5000],\n",
       "        [5.5000, 5.5000]])"
      ]
     },
     "execution_count": 48,
     "metadata": {},
     "output_type": "execute_result"
    }
   ],
   "source": [
    "a = (a + 2) * 3 - 1/2\n",
    "a"
   ]
  },
  {
   "cell_type": "code",
   "execution_count": 49,
   "id": "b4b46a4b-e27e-4dd0-973d-a214cc116452",
   "metadata": {},
   "outputs": [
    {
     "data": {
      "text/plain": [
       "tensor([[22., 22., 22., 22., 22.],\n",
       "        [22., 22., 22., 22., 22.],\n",
       "        [22., 22., 22., 22., 22.],\n",
       "        [22., 22., 22., 22., 22.],\n",
       "        [22., 22., 22., 22., 22.]])"
      ]
     },
     "execution_count": 49,
     "metadata": {},
     "output_type": "execute_result"
    }
   ],
   "source": [
    "c += 2\n",
    "a @ c.T"
   ]
  },
  {
   "cell_type": "code",
   "execution_count": 50,
   "id": "a7e2a7fe-352a-4d3b-bfc7-541991ca24ae",
   "metadata": {},
   "outputs": [
    {
     "data": {
      "text/plain": [
       "tensor([[3.5000, 3.5000],\n",
       "        [3.5000, 3.5000],\n",
       "        [3.5000, 3.5000],\n",
       "        [3.5000, 3.5000],\n",
       "        [3.5000, 3.5000]])"
      ]
     },
     "execution_count": 50,
     "metadata": {},
     "output_type": "execute_result"
    }
   ],
   "source": [
    "a - c"
   ]
  },
  {
   "cell_type": "code",
   "execution_count": 51,
   "id": "12bfbfc4-b64a-4e04-ae3c-89448fc9af8c",
   "metadata": {},
   "outputs": [
    {
     "data": {
      "text/plain": [
       "tensor([[7.5000, 7.5000],\n",
       "        [7.5000, 7.5000],\n",
       "        [7.5000, 7.5000],\n",
       "        [7.5000, 7.5000],\n",
       "        [7.5000, 7.5000]])"
      ]
     },
     "execution_count": 51,
     "metadata": {},
     "output_type": "execute_result"
    }
   ],
   "source": [
    "a + c"
   ]
  },
  {
   "cell_type": "code",
   "execution_count": 52,
   "id": "389dc509-b6fd-4d4a-9025-9bcc756e144c",
   "metadata": {},
   "outputs": [
    {
     "data": {
      "text/plain": [
       "tensor([[11., 11.],\n",
       "        [11., 11.],\n",
       "        [11., 11.],\n",
       "        [11., 11.],\n",
       "        [11., 11.]])"
      ]
     },
     "execution_count": 52,
     "metadata": {},
     "output_type": "execute_result"
    }
   ],
   "source": [
    "a * c"
   ]
  },
  {
   "cell_type": "code",
   "execution_count": 53,
   "id": "47cf119e-31ac-4719-b453-f4375b78a7e2",
   "metadata": {},
   "outputs": [
    {
     "data": {
      "text/plain": [
       "tensor([[0.3636, 0.3636],\n",
       "        [0.3636, 0.3636],\n",
       "        [0.3636, 0.3636],\n",
       "        [0.3636, 0.3636],\n",
       "        [0.3636, 0.3636]])"
      ]
     },
     "execution_count": 53,
     "metadata": {},
     "output_type": "execute_result"
    }
   ],
   "source": [
    "c / a"
   ]
  },
  {
   "cell_type": "code",
   "execution_count": 54,
   "id": "4ad0a534-6868-4d91-8fca-af92d8f5761c",
   "metadata": {},
   "outputs": [
    {
     "data": {
      "text/plain": [
       "tensor([[False, False],\n",
       "        [False, False],\n",
       "        [False, False],\n",
       "        [False, False],\n",
       "        [False, False]])"
      ]
     },
     "execution_count": 54,
     "metadata": {},
     "output_type": "execute_result"
    }
   ],
   "source": [
    "c > a"
   ]
  },
  {
   "cell_type": "markdown",
   "id": "b6004316-e2cf-420c-abc2-f1b425a9bea3",
   "metadata": {},
   "source": [
    "## Задача 3"
   ]
  },
  {
   "cell_type": "markdown",
   "id": "27a812e5-9364-4e89-8d0e-05d339fcb3f6",
   "metadata": {},
   "source": [
    "### 1"
   ]
  },
  {
   "cell_type": "code",
   "execution_count": 93,
   "id": "dc7669bd-2cd6-46d8-a1fd-df1842241869",
   "metadata": {},
   "outputs": [],
   "source": [
    "images = torch.zeros(100, 200, 200, 3)"
   ]
  },
  {
   "cell_type": "markdown",
   "id": "0a6eff0e-31c1-4ca4-b497-10bf45eae3c5",
   "metadata": {},
   "source": [
    "### 2"
   ]
  },
  {
   "cell_type": "code",
   "execution_count": 94,
   "id": "38421d17-7d21-414c-b380-e9cda3d67385",
   "metadata": {},
   "outputs": [],
   "source": [
    "import matplotlib.pyplot as plt"
   ]
  },
  {
   "cell_type": "code",
   "execution_count": 95,
   "id": "060e2761-c01e-4b8a-a594-5038edd05697",
   "metadata": {},
   "outputs": [],
   "source": [
    "for image_i in range(100):\n",
    "    images[image_i, image_i*2:image_i*2+2] += 255"
   ]
  },
  {
   "cell_type": "code",
   "execution_count": 96,
   "id": "a3119ad2-11ed-4aa7-b9c5-334b03ef2478",
   "metadata": {},
   "outputs": [
    {
     "data": {
      "image/png": "[encoded data removed]",
      "text/plain": [
       "<Figure size 1000x500 with 2 Axes>"
      ]
     },
     "metadata": {},
     "output_type": "display_data"
    }
   ],
   "source": [
    "fig, (ax1, ax2) = plt.subplots(1, 2, figsize=(10, 5))\n",
    "\n",
    "ax1.imshow(images[50].int())\n",
    "ax1.set_title('Изображение 50')\n",
    "ax1.axis('off')\n",
    "\n",
    "ax2.imshow(images[51].int())\n",
    "ax2.set_title('Изображение 51')\n",
    "ax2.axis('off')\n",
    "\n",
    "plt.tight_layout()\n",
    "plt.show()"
   ]
  },
  {
   "cell_type": "markdown",
   "id": "a51b4ab9-aead-4fac-bab1-17044dfe7e1f",
   "metadata": {},
   "source": [
    "### 3"
   ]
  },
  {
   "cell_type": "code",
   "execution_count": 97,
   "id": "649ab6b1-eac7-4cc9-a28c-d86b2c7e15bb",
   "metadata": {},
   "outputs": [
    {
     "data": {
      "text/plain": [
       "(-0.5, 199.5, 199.5, -0.5)"
      ]
     },
     "execution_count": 97,
     "metadata": {},
     "output_type": "execute_result"
    },
    {
     "data": {
      "image/png": "[encoded data removed]",
      "text/plain": [
       "<Figure size 640x480 with 1 Axes>"
      ]
     },
     "metadata": {},
     "output_type": "display_data"
    }
   ],
   "source": [
    "plt.imshow((images.mean(dim=0) * 70).int())\n",
    "plt.axis('off')"
   ]
  },
  {
   "cell_type": "markdown",
   "id": "08305b15-e509-4479-9690-90924e5684df",
   "metadata": {},
   "source": [
    "## Задача 4"
   ]
  },
  {
   "cell_type": "markdown",
   "id": "c5abb7ac-da97-458b-b4b1-d5ade8b10f0e",
   "metadata": {},
   "source": [
    "### 1"
   ]
  },
  {
   "cell_type": "code",
   "execution_count": 102,
   "id": "7f044462-f3f9-4964-83fa-15513e000c1c",
   "metadata": {},
   "outputs": [
    {
     "data": {
      "text/plain": [
       "tensor([0.9569, 0.9967])"
      ]
     },
     "execution_count": 102,
     "metadata": {},
     "output_type": "execute_result"
    }
   ],
   "source": [
    "def forward(X, w):\n",
    "    bias = w[0]\n",
    "    weights = w[1:]\n",
    "    return torch.sigmoid(X @ weights.T + bias)\n",
    "    \n",
    "X = torch.tensor([\n",
    "    [1, 2],\n",
    "    [3, 4]\n",
    "], dtype=torch.float)\n",
    "w = torch.tensor([1, 0.5, 0.8])\n",
    "\n",
    "forward(X, w)"
   ]
  },
  {
   "cell_type": "markdown",
   "id": "e19169d1-989d-4d8f-83b0-f913b8cc459a",
   "metadata": {},
   "source": [
    "## Задача 5"
   ]
  },
  {
   "cell_type": "code",
   "execution_count": 109,
   "id": "8fa84a38-f956-4d80-ab2c-c2cd91186cea",
   "metadata": {},
   "outputs": [],
   "source": [
    "a = torch.empty(2, 3, 4).uniform_()\n",
    "b = torch.empty(1, 8, 3).uniform_()"
   ]
  },
  {
   "cell_type": "code",
   "execution_count": 110,
   "id": "50c90ac4-ee0d-4bcb-b063-836d60546225",
   "metadata": {},
   "outputs": [],
   "source": [
    "c = b.view(2, 3, 4)"
   ]
  },
  {
   "cell_type": "code",
   "execution_count": 111,
   "id": "92b2d5fc-a11b-4ea6-b6f7-65cb082c4ed9",
   "metadata": {},
   "outputs": [],
   "source": [
    "from torch.autograd import Variable\n",
    "\n",
    "a, b, c = Variable(a, requires_grad=False), Variable(b, requires_grad=False), Variable(c, requires_grad=True)"
   ]
  },
  {
   "cell_type": "code",
   "execution_count": 112,
   "id": "e7bc9995-3874-435d-8856-4f220d855a8d",
   "metadata": {},
   "outputs": [
    {
     "name": "stdout",
     "output_type": "stream",
     "text": [
      "tensor([[[-0.0031, -0.0175, -0.0293, -0.0175],\n",
      "         [ 0.0585, -0.0575,  0.0081, -0.0131],\n",
      "         [-0.0215,  0.0305,  0.0511, -0.0238]],\n",
      "\n",
      "        [[-0.0096, -0.0129, -0.0125, -0.0538],\n",
      "         [-0.0490, -0.0288, -0.0253, -0.0012],\n",
      "         [-0.0170,  0.0129,  0.0461, -0.0048]]])\n"
     ]
    }
   ],
   "source": [
    "L = torch.mean((c - a)**2)\n",
    "L.backward()\n",
    "print(c.grad)"
   ]
  },
  {
   "cell_type": "code",
   "execution_count": null,
   "id": "d73fbe12-f71c-4220-af85-a27bba2adee8",
   "metadata": {},
   "outputs": [],
   "source": []
  }
 ],
 "metadata": {
  "kernelspec": {
   "display_name": "Python 3 (ipykernel)",
   "language": "python",
   "name": "python3"
  },
  "language_info": {
   "codemirror_mode": {
    "name": "ipython",
    "version": 3
   },
   "file_extension": ".py",
   "mimetype": "text/x-python",
   "name": "python",
   "nbconvert_exporter": "python",
   "pygments_lexer": "ipython3",
   "version": "3.12.4"
  }
 },
 "nbformat": 4,
 "nbformat_minor": 5
}
